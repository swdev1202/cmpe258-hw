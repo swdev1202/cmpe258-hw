{
 "cells": [
  {
   "cell_type": "markdown",
   "metadata": {},
   "source": [
    "##  1.a (5%) Find the eigenvalues and a basis consisting of eigenvectors of \n",
    "\n",
    "\n",
    "$$A = \\begin{bmatrix}\n",
    "    1  & 1 & -1  \\\\\n",
    "    -3  & -3 & 1  \\\\\n",
    "    -3  & -3 & 1  \\\\\n",
    "\\end{bmatrix}$$"
   ]
  },
  {
   "cell_type": "markdown",
   "metadata": {},
   "source": [
    "$$det(A-\\lambda I) = 0$$\n",
    "where $$\\lambda$$\n",
    "is the eigenvalues."
   ]
  },
  {
   "cell_type": "markdown",
   "metadata": {},
   "source": [
    "$$det(A-\\lambda I) = det(\\begin{bmatrix}1 & 1 & -1 \\\\ -3 & -3 & 1 \\\\ -3 & -3 & 1 \\\\ \\end{bmatrix} - \\begin{bmatrix}\\lambda & 0 & 0 \\\\ 0 & \\lambda & 0 \\\\ 0 & 0 & \\lambda \\end{bmatrix}) = 0$$"
   ]
  },
  {
   "cell_type": "markdown",
   "metadata": {},
   "source": [
    "$$\\begin{vmatrix} 1-\\lambda & 1 & -1 \\\\ -3 & -3-\\lambda & 1 \\\\ -3 & -3 & 1-\\lambda \\end{vmatrix} = 0$$"
   ]
  },
  {
   "cell_type": "markdown",
   "metadata": {},
   "source": [
    "$$(1-\\lambda)\\begin{vmatrix}-3-\\lambda & 1 \\\\ -3 & 1-\\lambda \\end{vmatrix} -(1)\\begin{vmatrix}-3 & 1 \\\\ -3 & 1-\\lambda \\end{vmatrix} + (-1)\\begin{vmatrix}-3 & -3-\\lambda \\\\ -3 & -3 \\end{vmatrix} = 0$$"
   ]
  },
  {
   "cell_type": "markdown",
   "metadata": {},
   "source": [
    "$$(1-\\lambda)(-3+3\\lambda-\\lambda+\\lambda^{2}+3)-(-3+3\\lambda+3)-(9-9-3\\lambda) = 0$$"
   ]
  },
  {
   "cell_type": "markdown",
   "metadata": {},
   "source": [
    "$$(1-\\lambda)(\\lambda^{2}+2\\lambda) = (1-\\lambda)\\lambda(\\lambda+2) = 0$$"
   ]
  },
  {
   "cell_type": "markdown",
   "metadata": {},
   "source": [
    "#### Therefore, $$\\lambda = -2, 0 ,1$$"
   ]
  },
  {
   "cell_type": "markdown",
   "metadata": {},
   "source": [
    "#### Then, we need to solve for $$(A-\\lambda I)\\begin{bmatrix}x\\\\y\\\\z\\end{bmatrix} = 0$$"
   ]
  },
  {
   "cell_type": "markdown",
   "metadata": {},
   "source": [
    "When $$\\lambda = -2, (A-(-2)I) = \\begin{bmatrix}3 & 1 & -1 \\\\ -3 & -1 & 1 \\\\ -3 & -3 & 3\\end{bmatrix}$$"
   ]
  },
  {
   "cell_type": "markdown",
   "metadata": {},
   "source": [
    "$$\\begin{bmatrix}3 & 1 & -1 \\\\ -3 & -1 & 1 \\\\ -3 & -3 & 3\\end{bmatrix}\\begin{bmatrix}x\\\\y\\\\z\\end{bmatrix} = 0$$"
   ]
  },
  {
   "cell_type": "markdown",
   "metadata": {},
   "source": [
    "$$\\begin{bmatrix}3x+y-z\\\\-3x-y+z\\\\-3x-3y+3z\\end{bmatrix} = 0$$"
   ]
  },
  {
   "cell_type": "markdown",
   "metadata": {},
   "source": [
    "Sovling it, $$x=0, z=y$$"
   ]
  },
  {
   "cell_type": "markdown",
   "metadata": {},
   "source": [
    "We let $$z=1, y=1, x=0$$"
   ]
  },
  {
   "cell_type": "markdown",
   "metadata": {},
   "source": [
    "Therefore, when $$\\lambda = -2$$\n",
    "We get $$\\begin{bmatrix}0\\\\1\\\\1\\end{bmatrix}$$"
   ]
  },
  {
   "cell_type": "markdown",
   "metadata": {},
   "source": [
    "We do the same thing for $$\\lambda=0$$"
   ]
  },
  {
   "cell_type": "markdown",
   "metadata": {},
   "source": [
    "$$\\begin{bmatrix}1 & 1 & -1 \\\\ -3 & -3 & 1 \\\\ -3 & -3 & 1\\end{bmatrix}\\begin{bmatrix}x\\\\y\\\\z\\end{bmatrix} = 0$$"
   ]
  },
  {
   "cell_type": "markdown",
   "metadata": {},
   "source": [
    "$$\\begin{bmatrix}x+y-z\\\\-3x-3y+z\\\\-3x-3y+z\\end{bmatrix} = 0$$"
   ]
  },
  {
   "cell_type": "markdown",
   "metadata": {},
   "source": [
    "Solving it, $$x+y=z$$\n",
    "We let $$z=0, x=-y$$\n",
    "So, $$z=0, x=1, y=-1$$"
   ]
  },
  {
   "cell_type": "markdown",
   "metadata": {},
   "source": [
    "Therefore, when $$\\lambda = 0$$\n",
    "We get $$\\begin{bmatrix}1\\\\-1\\\\0\\end{bmatrix}$$"
   ]
  },
  {
   "cell_type": "markdown",
   "metadata": {},
   "source": [
    "Lastly, when $$\\lambda = 1$$\n",
    "$$\\begin{bmatrix}0 & 1 & -1 \\\\ -3 & -4 & 1 \\\\ -3 & -3 & 0\\end{bmatrix}\\begin{bmatrix}x\\\\y\\\\z\\end{bmatrix} = 0$$"
   ]
  },
  {
   "cell_type": "markdown",
   "metadata": {},
   "source": [
    "$$\\begin{bmatrix}y-z\\\\-3x-4y+z\\\\-3x-3y\\end{bmatrix} = 0$$"
   ]
  },
  {
   "cell_type": "markdown",
   "metadata": {},
   "source": [
    "Solving it, $$y=z, x=-y$$\n",
    "So, when $$x=1, y=-1, z=-1$$"
   ]
  },
  {
   "cell_type": "markdown",
   "metadata": {},
   "source": [
    "Therefore, when $$\\lambda = 1$$\n",
    "We get $$\\begin{bmatrix}1\\\\-1\\\\-1\\end{bmatrix}$$"
   ]
  },
  {
   "cell_type": "code",
   "execution_count": 4,
   "metadata": {
    "scrolled": true
   },
   "outputs": [
    {
     "name": "stdout",
     "output_type": "stream",
     "text": [
      "eigenvalues\n",
      "[-2.  1.  0.]\n",
      "eigenvectors\n",
      "[[-0. -1.  1.]\n",
      " [-1.  1. -1.]\n",
      " [-1.  1.  0.]]\n",
      "compare left and right\n",
      "[0. 2. 2.] [0. 2. 2.]\n",
      "[-1.  1.  1.] [-1.  1.  1.]\n",
      "[0. 0. 0.] [ 0. -0.  0.]\n"
     ]
    }
   ],
   "source": [
    "# check to see if they are right.\n",
    "import numpy as np\n",
    "from numpy import linalg\n",
    "\n",
    "A = np.array([[1,1,-1],[-3,-3,1],[-3,-3,1]])\n",
    "\n",
    "eigenvalues,eigenvectors = linalg.eig(A)\n",
    "eigenvalues = np.around(eigenvalues)\n",
    "eigenvectors = np.around(eigenvectors)\n",
    "\n",
    "print(\"eigenvalues\")\n",
    "print(eigenvalues)\n",
    "\n",
    "print(\"eigenvectors\")\n",
    "print(eigenvectors)\n",
    "\n",
    "\n",
    "# just to verify if they are satisfying Av = (lamda)v\n",
    "print(\"compare left and right\")\n",
    "for i in range(eigenvalues.shape[0]):\n",
    "    u = eigenvectors[:,i]\n",
    "    lam = eigenvalues[i]\n",
    "    \n",
    "    left = np.dot(A,u)\n",
    "    right = lam*u\n",
    "    \n",
    "    print(left, right)"
   ]
  },
  {
   "cell_type": "markdown",
   "metadata": {},
   "source": [
    "$$eigenvalues = \\begin{bmatrix}\n",
    "    -2 & 1 & 0\\\\\n",
    "\\end{bmatrix}$$\n",
    "\n",
    "$$eigenvectors = \\begin{bmatrix}\n",
    "    0 \\\\\n",
    "    -1 \\\\\n",
    "    -1 \\\\\n",
    "\\end{bmatrix},\\begin{bmatrix}\n",
    "    -1 \\\\\n",
    "    1 \\\\\n",
    "    1 \\\\\n",
    "\\end{bmatrix}, \\begin{bmatrix}\n",
    "    1 \\\\\n",
    "    -1 \\\\\n",
    "    0 \\\\\n",
    "\\end{bmatrix}$$"
   ]
  },
  {
   "cell_type": "markdown",
   "metadata": {},
   "source": [
    "##  1.b (5%) Find the coordinates of the vector with respect to the basis of eigenvectors found at problem 1.\n",
    "\n",
    "$$v = \\begin{bmatrix}\n",
    "     0  \\\\\n",
    "     1  \\\\\n",
    "     0  \\\\\n",
    "\\end{bmatrix}$$"
   ]
  },
  {
   "cell_type": "markdown",
   "metadata": {},
   "source": [
    "$$v = a\\begin{bmatrix}\n",
    "    0 \\\\\n",
    "    1 \\\\\n",
    "    1 \\\\\n",
    "\\end{bmatrix}+b\n",
    "\\begin{bmatrix}\n",
    "    1 \\\\\n",
    "    -1 \\\\\n",
    "    -1 \\\\\n",
    "\\end{bmatrix}+c\n",
    "\\begin{bmatrix}\n",
    "    1 \\\\\n",
    "    -1 \\\\\n",
    "    0 \\\\\n",
    "\\end{bmatrix}$$"
   ]
  },
  {
   "cell_type": "markdown",
   "metadata": {},
   "source": [
    "$$\\begin{bmatrix}\n",
    "    b+c \\\\\n",
    "    a-b-c \\\\\n",
    "    a-b \\\\\n",
    "\\end{bmatrix}=\n",
    "\\begin{bmatrix}\n",
    "    0 \\\\\n",
    "    1 \\\\\n",
    "    0 \\\\\n",
    "\\end{bmatrix}$$"
   ]
  },
  {
   "cell_type": "markdown",
   "metadata": {},
   "source": [
    "Therefore, the coordinate $$(a,b,c) = (1,1,-1)$$"
   ]
  },
  {
   "cell_type": "markdown",
   "metadata": {},
   "source": [
    "## 1.c (5%) Calculate  $A^{2019}v$"
   ]
  },
  {
   "cell_type": "markdown",
   "metadata": {},
   "source": [
    "We know matrix diagonalization.\n",
    "\n",
    "$$A=PDP^{-1}$$"
   ]
  },
  {
   "cell_type": "markdown",
   "metadata": {},
   "source": [
    "We can construct P with basis.\n",
    "\n",
    "$$P = \\begin{bmatrix} 0 & 1 & 1 \\\\ 1 & -1 & -1 \\\\ 1 & -1 & 0\\end{bmatrix}$$"
   ]
  },
  {
   "cell_type": "markdown",
   "metadata": {},
   "source": [
    "Also with eigenvalues, we can form D.\n",
    "\n",
    "$$D=\\begin{bmatrix}-2 & 0 & 0 \\\\ 0 & 1 & 0 \\\\ 0 & 0 & 0\\end{bmatrix}$$ "
   ]
  },
  {
   "cell_type": "markdown",
   "metadata": {},
   "source": [
    "$$A^{k} = PD^{k}P^{-1}$$"
   ]
  },
  {
   "cell_type": "markdown",
   "metadata": {},
   "source": [
    "Then, $$A^{2019} = PD^{2019}P^{-1}$$"
   ]
  },
  {
   "cell_type": "markdown",
   "metadata": {},
   "source": [
    "$$A^{2019} = \\begin{bmatrix} 0 & 1 & 1 \\\\ 1 & -1 & -1 \\\\ 1 & -1 & 0\\end{bmatrix}\n",
    "\\begin{bmatrix} (-2)^{2019} & 0 & 0 \\\\ 0 & 1 & 0 \\\\ 0 & 0 & 0\\end{bmatrix}\n",
    "\\begin{bmatrix} 1 & 1 & 0 \\\\ 1 & 1 & -1 \\\\ 0 & -1 & 1\\end{bmatrix}$$"
   ]
  },
  {
   "cell_type": "markdown",
   "metadata": {},
   "source": [
    "$$A^{2019} = \\begin{bmatrix} 0 & 1 & 0 \\\\ (-2)^{2019} & -1 & 0 \\\\ (-2)^{2019} & -1 & 0\\end{bmatrix}\n",
    "\\begin{bmatrix} 1 & 1 & 0 \\\\ 1 & 1 & -1 \\\\ 0 & -1 & 1\\end{bmatrix}$$"
   ]
  },
  {
   "cell_type": "markdown",
   "metadata": {},
   "source": [
    "$$A^{2019} = \\begin{bmatrix} 1 & 1 & -1 \\\\ (-2)^{2019}-1 & (-2)^{2019}-1 & 1 \\\\ (-2)^{2019}-1 & (-2)^{2019}-1 & 1 \\end{bmatrix}$$"
   ]
  },
  {
   "cell_type": "markdown",
   "metadata": {},
   "source": [
    "$$A^{2019}v = \\begin{bmatrix} 1 & 1 & -1 \\\\ (-2)^{2019}-1 & (-2)^{2019}-1 & 1 \\\\ (-2)^{2019}-1 & (-2)^{2019}-1 & 1 \\end{bmatrix}\n",
    "\\begin{bmatrix} 0 \\\\ 1 \\\\ 0\\end{bmatrix}$$"
   ]
  },
  {
   "cell_type": "markdown",
   "metadata": {},
   "source": [
    "$$A^{2019}v = \\begin{bmatrix}1 \\\\ (-2)^{2019}-1 \\\\ (-2)^{2019}-1\\end{bmatrix}$$"
   ]
  },
  {
   "cell_type": "markdown",
   "metadata": {},
   "source": [
    "## 2. (10%) A typical page in a book contains one typo per page.  What is the probability that there are exactly 8 typos in a given 10-page chapter?"
   ]
  },
  {
   "cell_type": "markdown",
   "metadata": {},
   "source": [
    "#### Using a Poission Distribution where,  $$f(x)=\\frac{e^{-\\lambda}\\lambda^x}{x!}$$"
   ]
  },
  {
   "cell_type": "markdown",
   "metadata": {},
   "source": [
    "#### Since we know $$\\lambda = 10, x = 8$$\n",
    "\n",
    "$$f(8)=\\frac{e^{-10}10^8}{8!}$$"
   ]
  },
  {
   "cell_type": "code",
   "execution_count": 5,
   "metadata": {},
   "outputs": [
    {
     "name": "stdout",
     "output_type": "stream",
     "text": [
      "0.11259903214902002\n"
     ]
    }
   ],
   "source": [
    "from math import e, factorial\n",
    "\n",
    "def poisson_distribution(x, lam):\n",
    "    return (e**(-lam)*(lam**x))/(factorial(8))\n",
    "\n",
    "print(poisson_distribution(8, 10))"
   ]
  },
  {
   "cell_type": "markdown",
   "metadata": {},
   "source": [
    "#### Therefore, $$f(8) = 0.112599$$"
   ]
  },
  {
   "cell_type": "markdown",
   "metadata": {},
   "source": [
    "## 3. (10%) Suppose  that  every  page  in  the  chapter  contains  exactly  3000  characters,  and there is still an average of one typo per page.  What is the probability that there are exactly 8 typos in the 10-page chapter?"
   ]
  },
  {
   "cell_type": "markdown",
   "metadata": {},
   "source": [
    "#### Using a Binomial Distribuition where,\n",
    "\n",
    "$$P(N) = \\binom{n}{N}p^N(1-p)^{n-N}$$\n",
    "\n",
    "#### We know p = 1/3000 , n = 30000 (3000 chars * 10 pages), N = 8 (8 typos)\n",
    "#### We are going to inspect 30,000 characters in 10-page chapter and find a probability to have 8 typos among 30,000"
   ]
  },
  {
   "cell_type": "markdown",
   "metadata": {},
   "source": [
    "$$P(8) = \\binom{30000}{8}\\frac{1}{3000}^8(1-\\frac{1}{3000})^{30000-8}$$"
   ]
  },
  {
   "cell_type": "code",
   "execution_count": 6,
   "metadata": {},
   "outputs": [
    {
     "name": "stdout",
     "output_type": "stream",
     "text": [
      "probability = 0.11260653858405666\n"
     ]
    }
   ],
   "source": [
    "# Let's find out the answer\n",
    "probability = 1/3000\n",
    "numberTries = 30000\n",
    "numSuccess = 8\n",
    "\n",
    "def binomial(p,n,N):\n",
    "    top = n\n",
    "    ncnt = n\n",
    "    for i in range(N-1):\n",
    "        ncnt -= 1\n",
    "        top = top * ncnt\n",
    "    \n",
    "    \n",
    "    coefficient = top/factorial(N)\n",
    "    p_to_N = p**N\n",
    "    rest = (1-p)**(n-N)\n",
    "    \n",
    "    return coefficient*p_to_N*rest\n",
    "\n",
    "answer = binomial(probability, numberTries, numSuccess)\n",
    "print(\"probability = \" + str(answer))"
   ]
  },
  {
   "cell_type": "markdown",
   "metadata": {},
   "source": [
    "#### Therefore, $$P(8) = 0.112606$$"
   ]
  },
  {
   "cell_type": "markdown",
   "metadata": {},
   "source": [
    "## 4.(10%) Draw an ANN to implment $A \\bigoplus B$"
   ]
  },
  {
   "cell_type": "markdown",
   "metadata": {},
   "source": [
    "![title](img/hw1_4.png)"
   ]
  },
  {
   "cell_type": "markdown",
   "metadata": {},
   "source": [
    "## 5. (20%) Train a deep MLP on the MNIST dataset and see if how much accuracy you can get?\n"
   ]
  },
  {
   "cell_type": "code",
   "execution_count": 7,
   "metadata": {},
   "outputs": [],
   "source": [
    "# TensorFlow and tf.keras\n",
    "import tensorflow as tf\n",
    "from tensorflow import keras\n",
    "\n",
    "# Helper libraries\n",
    "import numpy as np\n",
    "import matplotlib.pyplot as plt"
   ]
  },
  {
   "cell_type": "code",
   "execution_count": 8,
   "metadata": {},
   "outputs": [],
   "source": [
    "# getting mnist data\n",
    "mnist = tf.keras.datasets.mnist\n",
    "\n",
    "(train_images, train_labels), (test_images, test_labels) = mnist.load_data()"
   ]
  },
  {
   "cell_type": "code",
   "execution_count": 9,
   "metadata": {},
   "outputs": [
    {
     "data": {
      "image/png": "[encoded data removed]",
      "text/plain": [
       "<Figure size 432x288 with 2 Axes>"
      ]
     },
     "metadata": {
      "needs_background": "light"
     },
     "output_type": "display_data"
    }
   ],
   "source": [
    "# to see how an image looks like\n",
    "plt.figure()\n",
    "plt.imshow(train_images[0])\n",
    "plt.colorbar()\n",
    "plt.grid(False)\n",
    "plt.show()"
   ]
  },
  {
   "cell_type": "code",
   "execution_count": 10,
   "metadata": {},
   "outputs": [
    {
     "data": {
      "image/png": "[encoded data removed]",
      "text/plain": [
       "<Figure size 432x288 with 2 Axes>"
      ]
     },
     "metadata": {
      "needs_background": "light"
     },
     "output_type": "display_data"
    }
   ],
   "source": [
    "# preprocess data from 0-255 scale to 0-1 scale\n",
    "train_images = train_images / 255.0\n",
    "test_images = test_images / 255.0\n",
    "\n",
    "plt.figure()\n",
    "plt.imshow(train_images[0])\n",
    "plt.colorbar()\n",
    "plt.grid(False)\n",
    "plt.show()"
   ]
  },
  {
   "cell_type": "code",
   "execution_count": 11,
   "metadata": {},
   "outputs": [
    {
     "name": "stdout",
     "output_type": "stream",
     "text": [
      "WARNING:tensorflow:From C:\\Users\\swlee\\Anaconda3\\envs\\cmpe258\\lib\\site-packages\\tensorflow\\python\\ops\\resource_variable_ops.py:435: colocate_with (from tensorflow.python.framework.ops) is deprecated and will be removed in a future version.\n",
      "Instructions for updating:\n",
      "Colocations handled automatically by placer.\n"
     ]
    }
   ],
   "source": [
    "# build a training mode\n",
    "model = keras.Sequential([\n",
    "    # first, flatten 2D image (28,28) to 1D (784,)\n",
    "    keras.layers.Flatten(input_shape=(28,28)),\n",
    "    # second, build a first layer with 128 nodes with an ReLU activation function\n",
    "    keras.layers.Dense(128, activation=tf.nn.relu),\n",
    "    # lastly, build an output layer with 10 nodes with softmax function to have\n",
    "    # a probability score for each class[0]~class[9]\n",
    "    keras.layers.Dense(10, activation=tf.nn.softmax)\n",
    "])"
   ]
  },
  {
   "cell_type": "code",
   "execution_count": 12,
   "metadata": {},
   "outputs": [],
   "source": [
    "# compile settings\n",
    "model.compile(optimizer='adam', \n",
    "              loss='sparse_categorical_crossentropy',\n",
    "              metrics=['accuracy'])"
   ]
  },
  {
   "cell_type": "code",
   "execution_count": 13,
   "metadata": {},
   "outputs": [
    {
     "name": "stdout",
     "output_type": "stream",
     "text": [
      "Epoch 1/5\n",
      "60000/60000 [==============================] - 12s 199us/sample - loss: 0.2555 - acc: 0.9273\n",
      "Epoch 2/5\n",
      "60000/60000 [==============================] - 10s 175us/sample - loss: 0.1107 - acc: 0.9678\n",
      "Epoch 3/5\n",
      "60000/60000 [==============================] - 10s 167us/sample - loss: 0.0752 - acc: 0.9771\n",
      "Epoch 4/5\n",
      "60000/60000 [==============================] - 10s 174us/sample - loss: 0.0558 - acc: 0.9832\n",
      "Epoch 5/5\n",
      "60000/60000 [==============================] - 11s 175us/sample - loss: 0.0425 - acc: 0.9866\n"
     ]
    },
    {
     "data": {
      "text/plain": [
       "<tensorflow.python.keras.callbacks.History at 0x2004918e6d8>"
      ]
     },
     "execution_count": 13,
     "metadata": {},
     "output_type": "execute_result"
    }
   ],
   "source": [
    "# now, train the model with our training images and labels\n",
    "model.fit(train_images, train_labels, epochs=5)"
   ]
  },
  {
   "cell_type": "code",
   "execution_count": 14,
   "metadata": {},
   "outputs": [
    {
     "name": "stdout",
     "output_type": "stream",
     "text": [
      "10000/10000 [==============================] - 1s 112us/sample - loss: 0.0803 - acc: 0.9759\n",
      "Test accuracy: 0.9759\n"
     ]
    }
   ],
   "source": [
    "# let's test our trained model how it works on test samples\n",
    "test_loss, test_acc = model.evaluate(test_images, test_labels)\n",
    "\n",
    "print('Test accuracy:', test_acc)"
   ]
  },
  {
   "cell_type": "markdown",
   "metadata": {},
   "source": [
    "## 6. (20%) For MNIST, can you design a new model based on CNN to retrain? How much accuracy get now? If you have GPU, try to play with those model paramters."
   ]
  },
  {
   "cell_type": "code",
   "execution_count": 15,
   "metadata": {},
   "outputs": [],
   "source": [
    "#create model\n",
    "cnn_model = keras.Sequential()\n",
    "#add model layers\n",
    "cnn_model.add(keras.layers.Conv2D(64, kernel_size=3, activation=tf.nn.relu, input_shape=(28,28,1)))\n",
    "cnn_model.add(keras.layers.Conv2D(32, kernel_size=3, activation=tf.nn.relu))\n",
    "cnn_model.add(keras.layers.Flatten())\n",
    "cnn_model.add(keras.layers.Dense(10, activation=tf.nn.softmax))"
   ]
  },
  {
   "cell_type": "code",
   "execution_count": 16,
   "metadata": {},
   "outputs": [],
   "source": [
    "# compile settings\n",
    "cnn_model.compile(optimizer='adam', \n",
    "              loss='sparse_categorical_crossentropy',\n",
    "              metrics=['accuracy'])"
   ]
  },
  {
   "cell_type": "code",
   "execution_count": 17,
   "metadata": {},
   "outputs": [
    {
     "name": "stdout",
     "output_type": "stream",
     "text": [
      "Train on 60000 samples, validate on 10000 samples\n",
      "Epoch 1/3\n",
      "60000/60000 [==============================] - 21s 344us/sample - loss: 0.1305 - acc: 0.9608 - val_loss: 0.0496 - val_acc: 0.9832\n",
      "Epoch 2/3\n",
      "60000/60000 [==============================] - 16s 273us/sample - loss: 0.0489 - acc: 0.9851 - val_loss: 0.0418 - val_acc: 0.9853\n",
      "Epoch 3/3\n",
      "60000/60000 [==============================] - 17s 276us/sample - loss: 0.0318 - acc: 0.9901 - val_loss: 0.0408 - val_acc: 0.9870\n"
     ]
    },
    {
     "data": {
      "text/plain": [
       "<tensorflow.python.keras.callbacks.History at 0x200bea0ea58>"
      ]
     },
     "execution_count": 17,
     "metadata": {},
     "output_type": "execute_result"
    }
   ],
   "source": [
    "#train the model\n",
    "\n",
    "#reshape data to fit model\n",
    "train_images = train_images.reshape(60000,28,28,1)\n",
    "test_images = test_images.reshape(10000,28,28,1)\n",
    "\n",
    "cnn_model.fit(train_images, train_labels, validation_data=(test_images, test_labels), epochs=3)"
   ]
  },
  {
   "cell_type": "code",
   "execution_count": 18,
   "metadata": {},
   "outputs": [
    {
     "name": "stdout",
     "output_type": "stream",
     "text": [
      "10000/10000 [==============================] - 1s 127us/sample - loss: 0.0408 - acc: 0.9870\n",
      "Test accuracy: 0.987\n"
     ]
    }
   ],
   "source": [
    "# let's test our trained model how it works on test samples\n",
    "test_loss, test_acc = cnn_model.evaluate(test_images, test_labels)\n",
    "\n",
    "print('Test accuracy:', test_acc)"
   ]
  },
  {
   "cell_type": "markdown",
   "metadata": {},
   "source": [
    "## 7. (15%) Given iris.csv data set. Using NN with Cross-Validation to Classify. Report Accuracy."
   ]
  },
  {
   "cell_type": "code",
   "execution_count": 20,
   "metadata": {},
   "outputs": [],
   "source": [
    "import pandas as pd\n",
    "\n",
    "col_name = ['sepal_length', 'sepal_width', 'petal_length', 'petal_width', 'species']\n",
    "# first, read iris data from iris.csv\n",
    "iris_data = pd.read_csv(\"iris.csv\", names=col_name)"
   ]
  },
  {
   "cell_type": "code",
   "execution_count": 21,
   "metadata": {},
   "outputs": [
    {
     "data": {
      "text/html": [
       "<div>\n",
       "<style scoped>\n",
       "    .dataframe tbody tr th:only-of-type {\n",
       "        vertical-align: middle;\n",
       "    }\n",
       "\n",
       "    .dataframe tbody tr th {\n",
       "        vertical-align: top;\n",
       "    }\n",
       "\n",
       "    .dataframe thead th {\n",
       "        text-align: right;\n",
       "    }\n",
       "</style>\n",
       "<table border=\"1\" class=\"dataframe\">\n",
       "  <thead>\n",
       "    <tr style=\"text-align: right;\">\n",
       "      <th></th>\n",
       "      <th>sepal_length</th>\n",
       "      <th>sepal_width</th>\n",
       "      <th>petal_length</th>\n",
       "      <th>petal_width</th>\n",
       "      <th>species</th>\n",
       "    </tr>\n",
       "  </thead>\n",
       "  <tbody>\n",
       "    <tr>\n",
       "      <th>0</th>\n",
       "      <td>5.1</td>\n",
       "      <td>3.5</td>\n",
       "      <td>1.4</td>\n",
       "      <td>0.2</td>\n",
       "      <td>Iris-setosa</td>\n",
       "    </tr>\n",
       "    <tr>\n",
       "      <th>1</th>\n",
       "      <td>4.9</td>\n",
       "      <td>3.0</td>\n",
       "      <td>1.4</td>\n",
       "      <td>0.2</td>\n",
       "      <td>Iris-setosa</td>\n",
       "    </tr>\n",
       "    <tr>\n",
       "      <th>2</th>\n",
       "      <td>4.7</td>\n",
       "      <td>3.2</td>\n",
       "      <td>1.3</td>\n",
       "      <td>0.2</td>\n",
       "      <td>Iris-setosa</td>\n",
       "    </tr>\n",
       "    <tr>\n",
       "      <th>3</th>\n",
       "      <td>4.6</td>\n",
       "      <td>3.1</td>\n",
       "      <td>1.5</td>\n",
       "      <td>0.2</td>\n",
       "      <td>Iris-setosa</td>\n",
       "    </tr>\n",
       "    <tr>\n",
       "      <th>4</th>\n",
       "      <td>5.0</td>\n",
       "      <td>3.6</td>\n",
       "      <td>1.4</td>\n",
       "      <td>0.2</td>\n",
       "      <td>Iris-setosa</td>\n",
       "    </tr>\n",
       "  </tbody>\n",
       "</table>\n",
       "</div>"
      ],
      "text/plain": [
       "   sepal_length  sepal_width  petal_length  petal_width      species\n",
       "0           5.1          3.5           1.4          0.2  Iris-setosa\n",
       "1           4.9          3.0           1.4          0.2  Iris-setosa\n",
       "2           4.7          3.2           1.3          0.2  Iris-setosa\n",
       "3           4.6          3.1           1.5          0.2  Iris-setosa\n",
       "4           5.0          3.6           1.4          0.2  Iris-setosa"
      ]
     },
     "execution_count": 21,
     "metadata": {},
     "output_type": "execute_result"
    }
   ],
   "source": [
    "iris_data.head()"
   ]
  },
  {
   "cell_type": "code",
   "execution_count": 22,
   "metadata": {},
   "outputs": [
    {
     "data": {
      "text/plain": [
       "(150, 5)"
      ]
     },
     "execution_count": 22,
     "metadata": {},
     "output_type": "execute_result"
    }
   ],
   "source": [
    "iris_data.shape"
   ]
  },
  {
   "cell_type": "code",
   "execution_count": 23,
   "metadata": {},
   "outputs": [
    {
     "data": {
      "text/plain": [
       "array(['Iris-setosa', 'Iris-versicolor', 'Iris-virginica'], dtype=object)"
      ]
     },
     "execution_count": 23,
     "metadata": {},
     "output_type": "execute_result"
    }
   ],
   "source": [
    "iris_data.species.unique()"
   ]
  },
  {
   "cell_type": "code",
   "execution_count": 24,
   "metadata": {},
   "outputs": [],
   "source": [
    "# since we have 3 species lets map them into integer\n",
    "iris_data[\"species\"] = iris_data[\"species\"].map({\"Iris-setosa\":0, \"Iris-versicolor\":1, \"Iris-virginica\":2})"
   ]
  },
  {
   "cell_type": "code",
   "execution_count": 25,
   "metadata": {},
   "outputs": [
    {
     "data": {
      "text/plain": [
       "array([0, 1, 2], dtype=int64)"
      ]
     },
     "execution_count": 25,
     "metadata": {},
     "output_type": "execute_result"
    }
   ],
   "source": [
    "iris_data.species.unique()"
   ]
  },
  {
   "cell_type": "code",
   "execution_count": 27,
   "metadata": {},
   "outputs": [],
   "source": [
    "# cross validation : splitting data into train & validation\n",
    "from sklearn.model_selection import train_test_split\n",
    "\n",
    "# test_size = 0.33 and random_state = 42 came from the scikit learn document\n",
    "x_train, x_test, y_train, y_test = train_test_split(iris_data.iloc[:,0:4], iris_data[\"species\"], test_size=0.33, random_state=42)"
   ]
  },
  {
   "cell_type": "code",
   "execution_count": 28,
   "metadata": {},
   "outputs": [
    {
     "name": "stdout",
     "output_type": "stream",
     "text": [
      "(100, 4) (50, 4) (100,) (50,)\n"
     ]
    }
   ],
   "source": [
    "print(x_train.shape, x_test.shape, y_train.shape, y_test.shape)"
   ]
  },
  {
   "cell_type": "code",
   "execution_count": 29,
   "metadata": {},
   "outputs": [
    {
     "name": "stderr",
     "output_type": "stream",
     "text": [
      "Using TensorFlow backend.\n"
     ]
    },
    {
     "name": "stdout",
     "output_type": "stream",
     "text": [
      "Shape of y_train_hot (100, 3)\n",
      "Shape of y_test_hot (50, 3)\n"
     ]
    }
   ],
   "source": [
    "# One hot encoding for better classification\n",
    "from keras.utils import np_utils\n",
    "\n",
    "y_train_hot=np_utils.to_categorical(y_train,num_classes=3)\n",
    "y_test_hot=np_utils.to_categorical(y_test,num_classes=3)\n",
    "print(\"Shape of y_train_hot\",y_train_hot.shape)\n",
    "print(\"Shape of y_test_hot\",y_test_hot.shape)"
   ]
  },
  {
   "cell_type": "code",
   "execution_count": 30,
   "metadata": {},
   "outputs": [
    {
     "name": "stdout",
     "output_type": "stream",
     "text": [
      "WARNING:tensorflow:From C:\\Users\\swlee\\Anaconda3\\envs\\cmpe258\\lib\\site-packages\\tensorflow\\python\\keras\\layers\\core.py:143: calling dropout (from tensorflow.python.ops.nn_ops) with keep_prob is deprecated and will be removed in a future version.\n",
      "Instructions for updating:\n",
      "Please use `rate` instead of `keep_prob`. Rate should be set to `rate = 1 - keep_prob`.\n"
     ]
    }
   ],
   "source": [
    "# let's build a neural network using a Keras\n",
    "iris_model = keras.Sequential()\n",
    "\n",
    "iris_model.add(keras.layers.Dense(1000, input_dim=4, activation='relu'))\n",
    "iris_model.add(keras.layers.Dense(500, activation='relu'))\n",
    "iris_model.add(keras.layers.Dense(250, activation='relu'))\n",
    "iris_model.add(keras.layers.Dropout(0.2))\n",
    "iris_model.add(keras.layers.Dense(3, activation='softmax'))"
   ]
  },
  {
   "cell_type": "code",
   "execution_count": 31,
   "metadata": {},
   "outputs": [],
   "source": [
    "# now compile it\n",
    "iris_model.compile(optimizer='adam', \n",
    "              loss='categorical_crossentropy',\n",
    "              metrics=['accuracy'])"
   ]
  },
  {
   "cell_type": "code",
   "execution_count": 32,
   "metadata": {},
   "outputs": [
    {
     "name": "stdout",
     "output_type": "stream",
     "text": [
      "Train on 100 samples, validate on 50 samples\n",
      "WARNING:tensorflow:From C:\\Users\\swlee\\Anaconda3\\envs\\cmpe258\\lib\\site-packages\\tensorflow\\python\\ops\\math_ops.py:3066: to_int32 (from tensorflow.python.ops.math_ops) is deprecated and will be removed in a future version.\n",
      "Instructions for updating:\n",
      "Use tf.cast instead.\n",
      "Epoch 1/10\n",
      "100/100 [==============================] - 1s 7ms/sample - loss: 0.9819 - acc: 0.5200 - val_loss: 0.6408 - val_acc: 0.9200\n",
      "Epoch 2/10\n",
      "100/100 [==============================] - 0s 406us/sample - loss: 0.5995 - acc: 0.7300 - val_loss: 0.4261 - val_acc: 1.0000\n",
      "Epoch 3/10\n",
      "100/100 [==============================] - 0s 372us/sample - loss: 0.4370 - acc: 0.8100 - val_loss: 0.3444 - val_acc: 0.7600\n",
      "Epoch 4/10\n",
      "100/100 [==============================] - 0s 399us/sample - loss: 0.3982 - acc: 0.8200 - val_loss: 0.2403 - val_acc: 0.9800\n",
      "Epoch 5/10\n",
      "100/100 [==============================] - 0s 366us/sample - loss: 0.3894 - acc: 0.8000 - val_loss: 0.4000 - val_acc: 0.7400\n",
      "Epoch 6/10\n",
      "100/100 [==============================] - 0s 360us/sample - loss: 0.2924 - acc: 0.8500 - val_loss: 0.2159 - val_acc: 0.8800\n",
      "Epoch 7/10\n",
      "100/100 [==============================] - 0s 404us/sample - loss: 0.2605 - acc: 0.8800 - val_loss: 0.2870 - val_acc: 0.8400\n",
      "Epoch 8/10\n",
      "100/100 [==============================] - 0s 409us/sample - loss: 0.2229 - acc: 0.9500 - val_loss: 0.1190 - val_acc: 0.9800\n",
      "Epoch 9/10\n",
      "100/100 [==============================] - 0s 347us/sample - loss: 0.1734 - acc: 0.9300 - val_loss: 0.1001 - val_acc: 1.0000\n",
      "Epoch 10/10\n",
      "100/100 [==============================] - 0s 439us/sample - loss: 0.1735 - acc: 0.9400 - val_loss: 0.1031 - val_acc: 1.0000\n"
     ]
    },
    {
     "data": {
      "text/plain": [
       "<tensorflow.python.keras.callbacks.History at 0x200ed9e0208>"
      ]
     },
     "execution_count": 32,
     "metadata": {},
     "output_type": "execute_result"
    }
   ],
   "source": [
    "# run it\n",
    "iris_model.fit(x_train,y_train_hot,validation_data=(x_test,y_test_hot),batch_size=20, epochs=10)"
   ]
  },
  {
   "cell_type": "code",
   "execution_count": 33,
   "metadata": {},
   "outputs": [
    {
     "name": "stdout",
     "output_type": "stream",
     "text": [
      "50/50 [==============================] - 0s 120us/sample - loss: 0.1031 - acc: 1.0000\n",
      "Test accuracy: 1.0\n"
     ]
    }
   ],
   "source": [
    "# let's test our trained model how it works on test samples\n",
    "test_loss, test_acc = iris_model.evaluate(x_test, y_test_hot)\n",
    "\n",
    "print('Test accuracy:', test_acc)"
   ]
  }
 ],
 "metadata": {
  "kernelspec": {
   "display_name": "Python 3",
   "language": "python",
   "name": "python3"
  },
  "language_info": {
   "codemirror_mode": {
    "name": "ipython",
    "version": 3
   },
   "file_extension": ".py",
   "mimetype": "text/x-python",
   "name": "python",
   "nbconvert_exporter": "python",
   "pygments_lexer": "ipython3",
   "version": "3.7.3"
  }
 },
 "nbformat": 4,
 "nbformat_minor": 2
}
